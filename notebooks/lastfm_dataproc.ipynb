{
 "cells": [
  {
   "cell_type": "code",
   "execution_count": 1,
   "metadata": {},
   "outputs": [
    {
     "name": "stderr",
     "output_type": "stream",
     "text": [
      "/home/jaehun/.local/share/virtualenvs/bpr-numba-F_aeijxL/lib/python3.6/importlib/_bootstrap.py:219: RuntimeWarning: numpy.dtype size changed, may indicate binary incompatibility. Expected 96, got 88\n",
      "  return f(*args, **kwds)\n",
      "/home/jaehun/.local/share/virtualenvs/bpr-numba-F_aeijxL/lib/python3.6/importlib/_bootstrap.py:219: RuntimeWarning: numpy.dtype size changed, may indicate binary incompatibility. Expected 96, got 88\n",
      "  return f(*args, **kwds)\n"
     ]
    }
   ],
   "source": [
    "import pandas as pd"
   ]
  },
  {
   "cell_type": "code",
   "execution_count": 2,
   "metadata": {},
   "outputs": [],
   "source": [
    "data_fn = '/home/jaehun/Downloads/lastfm-dataset-1K/userid-timestamp-artid-artname-traid-traname.tsv'\n",
    "\n",
    "with open(data_fn) as f:\n",
    "    D = [line.replace('\\n', '').split('\\t') for line in f.readlines()]"
   ]
  },
  {
   "cell_type": "code",
   "execution_count": 11,
   "metadata": {},
   "outputs": [],
   "source": [
    "uniq_tracks = {v:k for k, v in enumerate(list(set([line[-2] for line in D if line[-2] != ''])))}\n",
    "uniq_usrs = {v:k for k, v in enumerate(list(set([line[0] for line in D])))}\n",
    "ix2tracks = {v:k for k, v in uniq_tracks.items()}\n",
    "ix2users = {v:k for k, v in uniq_usrs.items()}"
   ]
  },
  {
   "cell_type": "code",
   "execution_count": 4,
   "metadata": {},
   "outputs": [],
   "source": [
    "res = [(uniq_usrs[d[0]], uniq_tracks[d[-2]]) for d in D if d[-2] != '']"
   ]
  },
  {
   "cell_type": "code",
   "execution_count": 5,
   "metadata": {},
   "outputs": [],
   "source": [
    "del D"
   ]
  },
  {
   "cell_type": "markdown",
   "metadata": {},
   "source": [
    "## Convert to DF"
   ]
  },
  {
   "cell_type": "code",
   "execution_count": null,
   "metadata": {},
   "outputs": [],
   "source": [
    "res = pd.DataFrame(res)\n",
    "res.loc[:, 2] = 1\n",
    "res.columns = ['user', 'item', 'value']\n",
    "res = res.groupby(['user', 'item']).sum().reset_index()\n",
    "data = res"
   ]
  },
  {
   "cell_type": "markdown",
   "metadata": {},
   "source": [
    "## Popularity based filtering (Densifying)"
   ]
  },
  {
   "cell_type": "code",
   "execution_count": 7,
   "metadata": {},
   "outputs": [
    {
     "name": "stdout",
     "output_type": "stream",
     "text": [
      "Before filtering:  (3963190, 3)\n",
      "Iteration 0: (1309772, 3)\n",
      "Iteration 1: (1309267, 3)\n",
      "Iteration 2: (1309267, 3)\n"
     ]
    }
   ],
   "source": [
    "print('Before filtering: ', data.shape)\n",
    "j = 0\n",
    "d = 1\n",
    "K_user = 25\n",
    "K_item = 25\n",
    "while d > 0:\n",
    "    d_ = data.shape[0]\n",
    "    user_size = data.groupby('user').size()\n",
    "    data_ = data[data['user'].isin(user_size[user_size > K_user].index)]\n",
    "    item_size = data_.groupby('item').size()\n",
    "    data = data_[data_['item'].isin(item_size[item_size > K_item].index)]\n",
    "    d = d_ - data.shape[0]\n",
    "    print('Iteration {:d}:'.format(j), data.shape)\n",
    "    j += 1"
   ]
  },
  {
   "cell_type": "markdown",
   "metadata": {},
   "source": [
    "## Reindexing"
   ]
  },
  {
   "cell_type": "code",
   "execution_count": 22,
   "metadata": {},
   "outputs": [],
   "source": [
    "data.loc[:, 'user'] = data['user'].map(ix2users)\n",
    "data.loc[:, 'item'] = data['item'].map(ix2tracks)\n",
    "\n",
    "# get new id\n",
    "uniq_users = {v:k for k, v in enumerate(data['user'].unique())}\n",
    "uniq_items = {v:k for k, v in enumerate(data['item'].unique())}\n",
    "\n",
    "data.loc[:, 'user'] = data['user'].map(uniq_users)\n",
    "data.loc[:, 'item'] = data['item'].map(uniq_items)"
   ]
  },
  {
   "cell_type": "markdown",
   "metadata": {},
   "source": [
    "## Saving"
   ]
  },
  {
   "cell_type": "code",
   "execution_count": 25,
   "metadata": {},
   "outputs": [],
   "source": [
    "data.to_csv('../bpr-numba/lastfm.subset.triplet', header=None, index=None)\n",
    "with open('../bpr-numba/lastfm.subset.item.hash', 'w') as f:\n",
    "    for track_id, ix in uniq_items.items():\n",
    "        f.write('{}\\t{:d}\\n'.format(track_id, ix))\n",
    "with open('../bpr-numba/lastfm.subset.user.hash', 'w') as f:\n",
    "    for user_id, ix in uniq_users.items():\n",
    "        f.write('{}\\t{:d}\\n'.format(user_id, ix))"
   ]
  },
  {
   "cell_type": "code",
   "execution_count": null,
   "metadata": {},
   "outputs": [],
   "source": []
  }
 ],
 "metadata": {
  "kernelspec": {
   "display_name": "bpr-numba",
   "language": "python",
   "name": "bpr-numba"
  },
  "language_info": {
   "codemirror_mode": {
    "name": "ipython",
    "version": 3
   },
   "file_extension": ".py",
   "mimetype": "text/x-python",
   "name": "python",
   "nbconvert_exporter": "python",
   "pygments_lexer": "ipython3",
   "version": "3.6.5"
  }
 },
 "nbformat": 4,
 "nbformat_minor": 2
}
